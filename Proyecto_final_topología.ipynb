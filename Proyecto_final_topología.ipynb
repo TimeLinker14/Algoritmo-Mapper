{
  "nbformat": 4,
  "nbformat_minor": 0,
  "metadata": {
    "colab": {
      "provenance": []
    },
    "kernelspec": {
      "name": "python3",
      "display_name": "Python 3"
    },
    "language_info": {
      "name": "python"
    }
  },
  "cells": [
    {
      "cell_type": "code",
      "source": [
        "import sklearn\n",
        "from sklearn import datasets"
      ],
      "metadata": {
        "id": "nNekmdU44qDW"
      },
      "execution_count": null,
      "outputs": []
    },
    {
      "cell_type": "code",
      "source": [
        "from google.colab import drive\n",
        "drive.mount('/content/drive')"
      ],
      "metadata": {
        "id": "iO4Sc_lumzt_",
        "colab": {
          "base_uri": "https://localhost:8080/"
        },
        "outputId": "175cf4c1-9105-441e-87f3-9be73953ce8e"
      },
      "execution_count": null,
      "outputs": [
        {
          "output_type": "stream",
          "name": "stdout",
          "text": [
            "Drive already mounted at /content/drive; to attempt to forcibly remount, call drive.mount(\"/content/drive\", force_remount=True).\n"
          ]
        }
      ]
    },
    {
      "cell_type": "code",
      "source": [
        "iris = datasets.load_iris() #Cargamos el set de iris\n",
        "iris #visualizamos"
      ],
      "metadata": {
        "colab": {
          "base_uri": "https://localhost:8080/"
        },
        "id": "HT77aNVo4xhC",
        "outputId": "3735e750-ce4b-41de-fddf-55a4bc1fbe5a"
      },
      "execution_count": null,
      "outputs": [
        {
          "output_type": "execute_result",
          "data": {
            "text/plain": [
              "{'DESCR': '.. _iris_dataset:\\n\\nIris plants dataset\\n--------------------\\n\\n**Data Set Characteristics:**\\n\\n    :Number of Instances: 150 (50 in each of three classes)\\n    :Number of Attributes: 4 numeric, predictive attributes and the class\\n    :Attribute Information:\\n        - sepal length in cm\\n        - sepal width in cm\\n        - petal length in cm\\n        - petal width in cm\\n        - class:\\n                - Iris-Setosa\\n                - Iris-Versicolour\\n                - Iris-Virginica\\n                \\n    :Summary Statistics:\\n\\n    ============== ==== ==== ======= ===== ====================\\n                    Min  Max   Mean    SD   Class Correlation\\n    ============== ==== ==== ======= ===== ====================\\n    sepal length:   4.3  7.9   5.84   0.83    0.7826\\n    sepal width:    2.0  4.4   3.05   0.43   -0.4194\\n    petal length:   1.0  6.9   3.76   1.76    0.9490  (high!)\\n    petal width:    0.1  2.5   1.20   0.76    0.9565  (high!)\\n    ============== ==== ==== ======= ===== ====================\\n\\n    :Missing Attribute Values: None\\n    :Class Distribution: 33.3% for each of 3 classes.\\n    :Creator: R.A. Fisher\\n    :Donor: Michael Marshall (MARSHALL%PLU@io.arc.nasa.gov)\\n    :Date: July, 1988\\n\\nThe famous Iris database, first used by Sir R.A. Fisher. The dataset is taken\\nfrom Fisher\\'s paper. Note that it\\'s the same as in R, but not as in the UCI\\nMachine Learning Repository, which has two wrong data points.\\n\\nThis is perhaps the best known database to be found in the\\npattern recognition literature.  Fisher\\'s paper is a classic in the field and\\nis referenced frequently to this day.  (See Duda & Hart, for example.)  The\\ndata set contains 3 classes of 50 instances each, where each class refers to a\\ntype of iris plant.  One class is linearly separable from the other 2; the\\nlatter are NOT linearly separable from each other.\\n\\n.. topic:: References\\n\\n   - Fisher, R.A. \"The use of multiple measurements in taxonomic problems\"\\n     Annual Eugenics, 7, Part II, 179-188 (1936); also in \"Contributions to\\n     Mathematical Statistics\" (John Wiley, NY, 1950).\\n   - Duda, R.O., & Hart, P.E. (1973) Pattern Classification and Scene Analysis.\\n     (Q327.D83) John Wiley & Sons.  ISBN 0-471-22361-1.  See page 218.\\n   - Dasarathy, B.V. (1980) \"Nosing Around the Neighborhood: A New System\\n     Structure and Classification Rule for Recognition in Partially Exposed\\n     Environments\".  IEEE Transactions on Pattern Analysis and Machine\\n     Intelligence, Vol. PAMI-2, No. 1, 67-71.\\n   - Gates, G.W. (1972) \"The Reduced Nearest Neighbor Rule\".  IEEE Transactions\\n     on Information Theory, May 1972, 431-433.\\n   - See also: 1988 MLC Proceedings, 54-64.  Cheeseman et al\"s AUTOCLASS II\\n     conceptual clustering system finds 3 classes in the data.\\n   - Many, many more ...',\n",
              " 'data': array([[5.1, 3.5, 1.4, 0.2],\n",
              "        [4.9, 3. , 1.4, 0.2],\n",
              "        [4.7, 3.2, 1.3, 0.2],\n",
              "        [4.6, 3.1, 1.5, 0.2],\n",
              "        [5. , 3.6, 1.4, 0.2],\n",
              "        [5.4, 3.9, 1.7, 0.4],\n",
              "        [4.6, 3.4, 1.4, 0.3],\n",
              "        [5. , 3.4, 1.5, 0.2],\n",
              "        [4.4, 2.9, 1.4, 0.2],\n",
              "        [4.9, 3.1, 1.5, 0.1],\n",
              "        [5.4, 3.7, 1.5, 0.2],\n",
              "        [4.8, 3.4, 1.6, 0.2],\n",
              "        [4.8, 3. , 1.4, 0.1],\n",
              "        [4.3, 3. , 1.1, 0.1],\n",
              "        [5.8, 4. , 1.2, 0.2],\n",
              "        [5.7, 4.4, 1.5, 0.4],\n",
              "        [5.4, 3.9, 1.3, 0.4],\n",
              "        [5.1, 3.5, 1.4, 0.3],\n",
              "        [5.7, 3.8, 1.7, 0.3],\n",
              "        [5.1, 3.8, 1.5, 0.3],\n",
              "        [5.4, 3.4, 1.7, 0.2],\n",
              "        [5.1, 3.7, 1.5, 0.4],\n",
              "        [4.6, 3.6, 1. , 0.2],\n",
              "        [5.1, 3.3, 1.7, 0.5],\n",
              "        [4.8, 3.4, 1.9, 0.2],\n",
              "        [5. , 3. , 1.6, 0.2],\n",
              "        [5. , 3.4, 1.6, 0.4],\n",
              "        [5.2, 3.5, 1.5, 0.2],\n",
              "        [5.2, 3.4, 1.4, 0.2],\n",
              "        [4.7, 3.2, 1.6, 0.2],\n",
              "        [4.8, 3.1, 1.6, 0.2],\n",
              "        [5.4, 3.4, 1.5, 0.4],\n",
              "        [5.2, 4.1, 1.5, 0.1],\n",
              "        [5.5, 4.2, 1.4, 0.2],\n",
              "        [4.9, 3.1, 1.5, 0.2],\n",
              "        [5. , 3.2, 1.2, 0.2],\n",
              "        [5.5, 3.5, 1.3, 0.2],\n",
              "        [4.9, 3.6, 1.4, 0.1],\n",
              "        [4.4, 3. , 1.3, 0.2],\n",
              "        [5.1, 3.4, 1.5, 0.2],\n",
              "        [5. , 3.5, 1.3, 0.3],\n",
              "        [4.5, 2.3, 1.3, 0.3],\n",
              "        [4.4, 3.2, 1.3, 0.2],\n",
              "        [5. , 3.5, 1.6, 0.6],\n",
              "        [5.1, 3.8, 1.9, 0.4],\n",
              "        [4.8, 3. , 1.4, 0.3],\n",
              "        [5.1, 3.8, 1.6, 0.2],\n",
              "        [4.6, 3.2, 1.4, 0.2],\n",
              "        [5.3, 3.7, 1.5, 0.2],\n",
              "        [5. , 3.3, 1.4, 0.2],\n",
              "        [7. , 3.2, 4.7, 1.4],\n",
              "        [6.4, 3.2, 4.5, 1.5],\n",
              "        [6.9, 3.1, 4.9, 1.5],\n",
              "        [5.5, 2.3, 4. , 1.3],\n",
              "        [6.5, 2.8, 4.6, 1.5],\n",
              "        [5.7, 2.8, 4.5, 1.3],\n",
              "        [6.3, 3.3, 4.7, 1.6],\n",
              "        [4.9, 2.4, 3.3, 1. ],\n",
              "        [6.6, 2.9, 4.6, 1.3],\n",
              "        [5.2, 2.7, 3.9, 1.4],\n",
              "        [5. , 2. , 3.5, 1. ],\n",
              "        [5.9, 3. , 4.2, 1.5],\n",
              "        [6. , 2.2, 4. , 1. ],\n",
              "        [6.1, 2.9, 4.7, 1.4],\n",
              "        [5.6, 2.9, 3.6, 1.3],\n",
              "        [6.7, 3.1, 4.4, 1.4],\n",
              "        [5.6, 3. , 4.5, 1.5],\n",
              "        [5.8, 2.7, 4.1, 1. ],\n",
              "        [6.2, 2.2, 4.5, 1.5],\n",
              "        [5.6, 2.5, 3.9, 1.1],\n",
              "        [5.9, 3.2, 4.8, 1.8],\n",
              "        [6.1, 2.8, 4. , 1.3],\n",
              "        [6.3, 2.5, 4.9, 1.5],\n",
              "        [6.1, 2.8, 4.7, 1.2],\n",
              "        [6.4, 2.9, 4.3, 1.3],\n",
              "        [6.6, 3. , 4.4, 1.4],\n",
              "        [6.8, 2.8, 4.8, 1.4],\n",
              "        [6.7, 3. , 5. , 1.7],\n",
              "        [6. , 2.9, 4.5, 1.5],\n",
              "        [5.7, 2.6, 3.5, 1. ],\n",
              "        [5.5, 2.4, 3.8, 1.1],\n",
              "        [5.5, 2.4, 3.7, 1. ],\n",
              "        [5.8, 2.7, 3.9, 1.2],\n",
              "        [6. , 2.7, 5.1, 1.6],\n",
              "        [5.4, 3. , 4.5, 1.5],\n",
              "        [6. , 3.4, 4.5, 1.6],\n",
              "        [6.7, 3.1, 4.7, 1.5],\n",
              "        [6.3, 2.3, 4.4, 1.3],\n",
              "        [5.6, 3. , 4.1, 1.3],\n",
              "        [5.5, 2.5, 4. , 1.3],\n",
              "        [5.5, 2.6, 4.4, 1.2],\n",
              "        [6.1, 3. , 4.6, 1.4],\n",
              "        [5.8, 2.6, 4. , 1.2],\n",
              "        [5. , 2.3, 3.3, 1. ],\n",
              "        [5.6, 2.7, 4.2, 1.3],\n",
              "        [5.7, 3. , 4.2, 1.2],\n",
              "        [5.7, 2.9, 4.2, 1.3],\n",
              "        [6.2, 2.9, 4.3, 1.3],\n",
              "        [5.1, 2.5, 3. , 1.1],\n",
              "        [5.7, 2.8, 4.1, 1.3],\n",
              "        [6.3, 3.3, 6. , 2.5],\n",
              "        [5.8, 2.7, 5.1, 1.9],\n",
              "        [7.1, 3. , 5.9, 2.1],\n",
              "        [6.3, 2.9, 5.6, 1.8],\n",
              "        [6.5, 3. , 5.8, 2.2],\n",
              "        [7.6, 3. , 6.6, 2.1],\n",
              "        [4.9, 2.5, 4.5, 1.7],\n",
              "        [7.3, 2.9, 6.3, 1.8],\n",
              "        [6.7, 2.5, 5.8, 1.8],\n",
              "        [7.2, 3.6, 6.1, 2.5],\n",
              "        [6.5, 3.2, 5.1, 2. ],\n",
              "        [6.4, 2.7, 5.3, 1.9],\n",
              "        [6.8, 3. , 5.5, 2.1],\n",
              "        [5.7, 2.5, 5. , 2. ],\n",
              "        [5.8, 2.8, 5.1, 2.4],\n",
              "        [6.4, 3.2, 5.3, 2.3],\n",
              "        [6.5, 3. , 5.5, 1.8],\n",
              "        [7.7, 3.8, 6.7, 2.2],\n",
              "        [7.7, 2.6, 6.9, 2.3],\n",
              "        [6. , 2.2, 5. , 1.5],\n",
              "        [6.9, 3.2, 5.7, 2.3],\n",
              "        [5.6, 2.8, 4.9, 2. ],\n",
              "        [7.7, 2.8, 6.7, 2. ],\n",
              "        [6.3, 2.7, 4.9, 1.8],\n",
              "        [6.7, 3.3, 5.7, 2.1],\n",
              "        [7.2, 3.2, 6. , 1.8],\n",
              "        [6.2, 2.8, 4.8, 1.8],\n",
              "        [6.1, 3. , 4.9, 1.8],\n",
              "        [6.4, 2.8, 5.6, 2.1],\n",
              "        [7.2, 3. , 5.8, 1.6],\n",
              "        [7.4, 2.8, 6.1, 1.9],\n",
              "        [7.9, 3.8, 6.4, 2. ],\n",
              "        [6.4, 2.8, 5.6, 2.2],\n",
              "        [6.3, 2.8, 5.1, 1.5],\n",
              "        [6.1, 2.6, 5.6, 1.4],\n",
              "        [7.7, 3. , 6.1, 2.3],\n",
              "        [6.3, 3.4, 5.6, 2.4],\n",
              "        [6.4, 3.1, 5.5, 1.8],\n",
              "        [6. , 3. , 4.8, 1.8],\n",
              "        [6.9, 3.1, 5.4, 2.1],\n",
              "        [6.7, 3.1, 5.6, 2.4],\n",
              "        [6.9, 3.1, 5.1, 2.3],\n",
              "        [5.8, 2.7, 5.1, 1.9],\n",
              "        [6.8, 3.2, 5.9, 2.3],\n",
              "        [6.7, 3.3, 5.7, 2.5],\n",
              "        [6.7, 3. , 5.2, 2.3],\n",
              "        [6.3, 2.5, 5. , 1.9],\n",
              "        [6.5, 3. , 5.2, 2. ],\n",
              "        [6.2, 3.4, 5.4, 2.3],\n",
              "        [5.9, 3. , 5.1, 1.8]]),\n",
              " 'data_module': 'sklearn.datasets.data',\n",
              " 'feature_names': ['sepal length (cm)',\n",
              "  'sepal width (cm)',\n",
              "  'petal length (cm)',\n",
              "  'petal width (cm)'],\n",
              " 'filename': 'iris.csv',\n",
              " 'frame': None,\n",
              " 'target': array([0, 0, 0, 0, 0, 0, 0, 0, 0, 0, 0, 0, 0, 0, 0, 0, 0, 0, 0, 0, 0, 0,\n",
              "        0, 0, 0, 0, 0, 0, 0, 0, 0, 0, 0, 0, 0, 0, 0, 0, 0, 0, 0, 0, 0, 0,\n",
              "        0, 0, 0, 0, 0, 0, 1, 1, 1, 1, 1, 1, 1, 1, 1, 1, 1, 1, 1, 1, 1, 1,\n",
              "        1, 1, 1, 1, 1, 1, 1, 1, 1, 1, 1, 1, 1, 1, 1, 1, 1, 1, 1, 1, 1, 1,\n",
              "        1, 1, 1, 1, 1, 1, 1, 1, 1, 1, 1, 1, 2, 2, 2, 2, 2, 2, 2, 2, 2, 2,\n",
              "        2, 2, 2, 2, 2, 2, 2, 2, 2, 2, 2, 2, 2, 2, 2, 2, 2, 2, 2, 2, 2, 2,\n",
              "        2, 2, 2, 2, 2, 2, 2, 2, 2, 2, 2, 2, 2, 2, 2, 2, 2, 2]),\n",
              " 'target_names': array(['setosa', 'versicolor', 'virginica'], dtype='<U10')}"
            ]
          },
          "metadata": {},
          "execution_count": 7
        }
      ]
    },
    {
      "cell_type": "code",
      "source": [
        "iris.data #Datos de iris"
      ],
      "metadata": {
        "colab": {
          "base_uri": "https://localhost:8080/"
        },
        "id": "yZD6vpkf53eQ",
        "outputId": "537d8d24-7f89-4995-de4d-af04669ef894"
      },
      "execution_count": null,
      "outputs": [
        {
          "output_type": "execute_result",
          "data": {
            "text/plain": [
              "array([[5.1, 3.5, 1.4, 0.2],\n",
              "       [4.9, 3. , 1.4, 0.2],\n",
              "       [4.7, 3.2, 1.3, 0.2],\n",
              "       [4.6, 3.1, 1.5, 0.2],\n",
              "       [5. , 3.6, 1.4, 0.2],\n",
              "       [5.4, 3.9, 1.7, 0.4],\n",
              "       [4.6, 3.4, 1.4, 0.3],\n",
              "       [5. , 3.4, 1.5, 0.2],\n",
              "       [4.4, 2.9, 1.4, 0.2],\n",
              "       [4.9, 3.1, 1.5, 0.1],\n",
              "       [5.4, 3.7, 1.5, 0.2],\n",
              "       [4.8, 3.4, 1.6, 0.2],\n",
              "       [4.8, 3. , 1.4, 0.1],\n",
              "       [4.3, 3. , 1.1, 0.1],\n",
              "       [5.8, 4. , 1.2, 0.2],\n",
              "       [5.7, 4.4, 1.5, 0.4],\n",
              "       [5.4, 3.9, 1.3, 0.4],\n",
              "       [5.1, 3.5, 1.4, 0.3],\n",
              "       [5.7, 3.8, 1.7, 0.3],\n",
              "       [5.1, 3.8, 1.5, 0.3],\n",
              "       [5.4, 3.4, 1.7, 0.2],\n",
              "       [5.1, 3.7, 1.5, 0.4],\n",
              "       [4.6, 3.6, 1. , 0.2],\n",
              "       [5.1, 3.3, 1.7, 0.5],\n",
              "       [4.8, 3.4, 1.9, 0.2],\n",
              "       [5. , 3. , 1.6, 0.2],\n",
              "       [5. , 3.4, 1.6, 0.4],\n",
              "       [5.2, 3.5, 1.5, 0.2],\n",
              "       [5.2, 3.4, 1.4, 0.2],\n",
              "       [4.7, 3.2, 1.6, 0.2],\n",
              "       [4.8, 3.1, 1.6, 0.2],\n",
              "       [5.4, 3.4, 1.5, 0.4],\n",
              "       [5.2, 4.1, 1.5, 0.1],\n",
              "       [5.5, 4.2, 1.4, 0.2],\n",
              "       [4.9, 3.1, 1.5, 0.2],\n",
              "       [5. , 3.2, 1.2, 0.2],\n",
              "       [5.5, 3.5, 1.3, 0.2],\n",
              "       [4.9, 3.6, 1.4, 0.1],\n",
              "       [4.4, 3. , 1.3, 0.2],\n",
              "       [5.1, 3.4, 1.5, 0.2],\n",
              "       [5. , 3.5, 1.3, 0.3],\n",
              "       [4.5, 2.3, 1.3, 0.3],\n",
              "       [4.4, 3.2, 1.3, 0.2],\n",
              "       [5. , 3.5, 1.6, 0.6],\n",
              "       [5.1, 3.8, 1.9, 0.4],\n",
              "       [4.8, 3. , 1.4, 0.3],\n",
              "       [5.1, 3.8, 1.6, 0.2],\n",
              "       [4.6, 3.2, 1.4, 0.2],\n",
              "       [5.3, 3.7, 1.5, 0.2],\n",
              "       [5. , 3.3, 1.4, 0.2],\n",
              "       [7. , 3.2, 4.7, 1.4],\n",
              "       [6.4, 3.2, 4.5, 1.5],\n",
              "       [6.9, 3.1, 4.9, 1.5],\n",
              "       [5.5, 2.3, 4. , 1.3],\n",
              "       [6.5, 2.8, 4.6, 1.5],\n",
              "       [5.7, 2.8, 4.5, 1.3],\n",
              "       [6.3, 3.3, 4.7, 1.6],\n",
              "       [4.9, 2.4, 3.3, 1. ],\n",
              "       [6.6, 2.9, 4.6, 1.3],\n",
              "       [5.2, 2.7, 3.9, 1.4],\n",
              "       [5. , 2. , 3.5, 1. ],\n",
              "       [5.9, 3. , 4.2, 1.5],\n",
              "       [6. , 2.2, 4. , 1. ],\n",
              "       [6.1, 2.9, 4.7, 1.4],\n",
              "       [5.6, 2.9, 3.6, 1.3],\n",
              "       [6.7, 3.1, 4.4, 1.4],\n",
              "       [5.6, 3. , 4.5, 1.5],\n",
              "       [5.8, 2.7, 4.1, 1. ],\n",
              "       [6.2, 2.2, 4.5, 1.5],\n",
              "       [5.6, 2.5, 3.9, 1.1],\n",
              "       [5.9, 3.2, 4.8, 1.8],\n",
              "       [6.1, 2.8, 4. , 1.3],\n",
              "       [6.3, 2.5, 4.9, 1.5],\n",
              "       [6.1, 2.8, 4.7, 1.2],\n",
              "       [6.4, 2.9, 4.3, 1.3],\n",
              "       [6.6, 3. , 4.4, 1.4],\n",
              "       [6.8, 2.8, 4.8, 1.4],\n",
              "       [6.7, 3. , 5. , 1.7],\n",
              "       [6. , 2.9, 4.5, 1.5],\n",
              "       [5.7, 2.6, 3.5, 1. ],\n",
              "       [5.5, 2.4, 3.8, 1.1],\n",
              "       [5.5, 2.4, 3.7, 1. ],\n",
              "       [5.8, 2.7, 3.9, 1.2],\n",
              "       [6. , 2.7, 5.1, 1.6],\n",
              "       [5.4, 3. , 4.5, 1.5],\n",
              "       [6. , 3.4, 4.5, 1.6],\n",
              "       [6.7, 3.1, 4.7, 1.5],\n",
              "       [6.3, 2.3, 4.4, 1.3],\n",
              "       [5.6, 3. , 4.1, 1.3],\n",
              "       [5.5, 2.5, 4. , 1.3],\n",
              "       [5.5, 2.6, 4.4, 1.2],\n",
              "       [6.1, 3. , 4.6, 1.4],\n",
              "       [5.8, 2.6, 4. , 1.2],\n",
              "       [5. , 2.3, 3.3, 1. ],\n",
              "       [5.6, 2.7, 4.2, 1.3],\n",
              "       [5.7, 3. , 4.2, 1.2],\n",
              "       [5.7, 2.9, 4.2, 1.3],\n",
              "       [6.2, 2.9, 4.3, 1.3],\n",
              "       [5.1, 2.5, 3. , 1.1],\n",
              "       [5.7, 2.8, 4.1, 1.3],\n",
              "       [6.3, 3.3, 6. , 2.5],\n",
              "       [5.8, 2.7, 5.1, 1.9],\n",
              "       [7.1, 3. , 5.9, 2.1],\n",
              "       [6.3, 2.9, 5.6, 1.8],\n",
              "       [6.5, 3. , 5.8, 2.2],\n",
              "       [7.6, 3. , 6.6, 2.1],\n",
              "       [4.9, 2.5, 4.5, 1.7],\n",
              "       [7.3, 2.9, 6.3, 1.8],\n",
              "       [6.7, 2.5, 5.8, 1.8],\n",
              "       [7.2, 3.6, 6.1, 2.5],\n",
              "       [6.5, 3.2, 5.1, 2. ],\n",
              "       [6.4, 2.7, 5.3, 1.9],\n",
              "       [6.8, 3. , 5.5, 2.1],\n",
              "       [5.7, 2.5, 5. , 2. ],\n",
              "       [5.8, 2.8, 5.1, 2.4],\n",
              "       [6.4, 3.2, 5.3, 2.3],\n",
              "       [6.5, 3. , 5.5, 1.8],\n",
              "       [7.7, 3.8, 6.7, 2.2],\n",
              "       [7.7, 2.6, 6.9, 2.3],\n",
              "       [6. , 2.2, 5. , 1.5],\n",
              "       [6.9, 3.2, 5.7, 2.3],\n",
              "       [5.6, 2.8, 4.9, 2. ],\n",
              "       [7.7, 2.8, 6.7, 2. ],\n",
              "       [6.3, 2.7, 4.9, 1.8],\n",
              "       [6.7, 3.3, 5.7, 2.1],\n",
              "       [7.2, 3.2, 6. , 1.8],\n",
              "       [6.2, 2.8, 4.8, 1.8],\n",
              "       [6.1, 3. , 4.9, 1.8],\n",
              "       [6.4, 2.8, 5.6, 2.1],\n",
              "       [7.2, 3. , 5.8, 1.6],\n",
              "       [7.4, 2.8, 6.1, 1.9],\n",
              "       [7.9, 3.8, 6.4, 2. ],\n",
              "       [6.4, 2.8, 5.6, 2.2],\n",
              "       [6.3, 2.8, 5.1, 1.5],\n",
              "       [6.1, 2.6, 5.6, 1.4],\n",
              "       [7.7, 3. , 6.1, 2.3],\n",
              "       [6.3, 3.4, 5.6, 2.4],\n",
              "       [6.4, 3.1, 5.5, 1.8],\n",
              "       [6. , 3. , 4.8, 1.8],\n",
              "       [6.9, 3.1, 5.4, 2.1],\n",
              "       [6.7, 3.1, 5.6, 2.4],\n",
              "       [6.9, 3.1, 5.1, 2.3],\n",
              "       [5.8, 2.7, 5.1, 1.9],\n",
              "       [6.8, 3.2, 5.9, 2.3],\n",
              "       [6.7, 3.3, 5.7, 2.5],\n",
              "       [6.7, 3. , 5.2, 2.3],\n",
              "       [6.3, 2.5, 5. , 1.9],\n",
              "       [6.5, 3. , 5.2, 2. ],\n",
              "       [6.2, 3.4, 5.4, 2.3],\n",
              "       [5.9, 3. , 5.1, 1.8]])"
            ]
          },
          "metadata": {},
          "execution_count": 8
        }
      ]
    },
    {
      "cell_type": "code",
      "source": [
        "iris.target #Clases de iris"
      ],
      "metadata": {
        "colab": {
          "base_uri": "https://localhost:8080/"
        },
        "id": "katskMFe55Mg",
        "outputId": "de8f23e3-c5cb-42df-db1b-67924bb2fe2c"
      },
      "execution_count": null,
      "outputs": [
        {
          "output_type": "execute_result",
          "data": {
            "text/plain": [
              "array([0, 0, 0, 0, 0, 0, 0, 0, 0, 0, 0, 0, 0, 0, 0, 0, 0, 0, 0, 0, 0, 0,\n",
              "       0, 0, 0, 0, 0, 0, 0, 0, 0, 0, 0, 0, 0, 0, 0, 0, 0, 0, 0, 0, 0, 0,\n",
              "       0, 0, 0, 0, 0, 0, 1, 1, 1, 1, 1, 1, 1, 1, 1, 1, 1, 1, 1, 1, 1, 1,\n",
              "       1, 1, 1, 1, 1, 1, 1, 1, 1, 1, 1, 1, 1, 1, 1, 1, 1, 1, 1, 1, 1, 1,\n",
              "       1, 1, 1, 1, 1, 1, 1, 1, 1, 1, 1, 1, 2, 2, 2, 2, 2, 2, 2, 2, 2, 2,\n",
              "       2, 2, 2, 2, 2, 2, 2, 2, 2, 2, 2, 2, 2, 2, 2, 2, 2, 2, 2, 2, 2, 2,\n",
              "       2, 2, 2, 2, 2, 2, 2, 2, 2, 2, 2, 2, 2, 2, 2, 2, 2, 2])"
            ]
          },
          "metadata": {},
          "execution_count": 9
        }
      ]
    },
    {
      "cell_type": "markdown",
      "source": [
        "Podemos ver que hay 3 clases para las 3 flores, y que tenemos 4 features, sepal length, sepal width, petal legth y petal width"
      ],
      "metadata": {
        "id": "DAjsFgrE5iBC"
      }
    },
    {
      "cell_type": "markdown",
      "source": [
        "Como no hay valores nulos, usamos todos los datos y features."
      ],
      "metadata": {
        "id": "g2RAHV8V6GaC"
      }
    },
    {
      "cell_type": "code",
      "source": [
        "X=iris.data"
      ],
      "metadata": {
        "id": "rdlpVLGH6JtW"
      },
      "execution_count": null,
      "outputs": []
    },
    {
      "cell_type": "code",
      "source": [
        "y=iris.target"
      ],
      "metadata": {
        "id": "kKbHfoFz6QWr"
      },
      "execution_count": null,
      "outputs": []
    },
    {
      "cell_type": "code",
      "source": [
        "!pip install kmapper\n",
        "import numpy as np\n",
        "import kmapper as km"
      ],
      "metadata": {
        "colab": {
          "base_uri": "https://localhost:8080/"
        },
        "id": "W9CuJFi95GfR",
        "outputId": "2290a5d8-5863-4b8d-fcbf-a952a5c267ee"
      },
      "execution_count": null,
      "outputs": [
        {
          "output_type": "stream",
          "name": "stdout",
          "text": [
            "Looking in indexes: https://pypi.org/simple, https://us-python.pkg.dev/colab-wheels/public/simple/\n",
            "Collecting kmapper\n",
            "  Downloading kmapper-2.0.1-py3-none-any.whl (125 kB)\n",
            "\u001b[K     |████████████████████████████████| 125 kB 5.3 MB/s \n",
            "\u001b[?25hRequirement already satisfied: numpy in /usr/local/lib/python3.7/dist-packages (from kmapper) (1.21.6)\n",
            "Requirement already satisfied: scikit-learn in /usr/local/lib/python3.7/dist-packages (from kmapper) (1.0.2)\n",
            "Requirement already satisfied: scipy in /usr/local/lib/python3.7/dist-packages (from kmapper) (1.4.1)\n",
            "Requirement already satisfied: Jinja2 in /usr/local/lib/python3.7/dist-packages (from kmapper) (2.11.3)\n",
            "Requirement already satisfied: MarkupSafe>=0.23 in /usr/local/lib/python3.7/dist-packages (from Jinja2->kmapper) (2.0.1)\n",
            "Requirement already satisfied: threadpoolctl>=2.0.0 in /usr/local/lib/python3.7/dist-packages (from scikit-learn->kmapper) (3.1.0)\n",
            "Requirement already satisfied: joblib>=0.11 in /usr/local/lib/python3.7/dist-packages (from scikit-learn->kmapper) (1.1.0)\n",
            "Installing collected packages: kmapper\n",
            "Successfully installed kmapper-2.0.1\n"
          ]
        }
      ]
    },
    {
      "cell_type": "code",
      "source": [
        "mapper=km.KeplerMapper(verbose=1) #Llamamos a mapper con verbosidad 1 para separar medianamente los datos"
      ],
      "metadata": {
        "colab": {
          "base_uri": "https://localhost:8080/"
        },
        "id": "JWSXMxyN6wRZ",
        "outputId": "55770445-3474-47d8-a2de-96dd4818bc55"
      },
      "execution_count": null,
      "outputs": [
        {
          "output_type": "stream",
          "name": "stdout",
          "text": [
            "KeplerMapper(verbose=1)\n"
          ]
        }
      ]
    },
    {
      "cell_type": "code",
      "source": [
        "lens = mapper.fit_transform(X) #Usamos el lente default de mapper, el sum, debido a que los datos no son muy complejos y es una base prelimpiada, escala los datos de minimo a máximo\n",
        "# se proyectan con sum, separando los datos en base a sus diferencias y distancias"
      ],
      "metadata": {
        "colab": {
          "base_uri": "https://localhost:8080/"
        },
        "id": "oh33v0-p6zRO",
        "outputId": "90983862-3b03-49e2-d7b4-0515a16e1d98"
      },
      "execution_count": null,
      "outputs": [
        {
          "output_type": "stream",
          "name": "stdout",
          "text": [
            "..Composing projection pipeline of length 1:\n",
            "\tProjections: sum\n",
            "\tDistance matrices: False\n",
            "\tScalers: MinMaxScaler()\n",
            "..Projecting on data shaped (150, 4)\n",
            "\n",
            "..Projecting data using: sum\n",
            "\n",
            "..Scaling with: MinMaxScaler()\n",
            "\n"
          ]
        }
      ]
    },
    {
      "cell_type": "code",
      "source": [
        "graph = mapper.map(\n",
        "    lens,\n",
        "    X,\n",
        "    clusterer=sklearn.cluster.DBSCAN(), #Usamos el DBSCAN de default, que encuentra centros con mucha densidad y muchos vecinos, este es bueno para \n",
        "    #los datos ya que son 3 flores con la misma cantidad de datos, por ende, deberían ser 3 clusters globales\n",
        "    cover=km.Cover(n_cubes=12, perc_overlap=0.2), #Usamos 12 cubos por las 3 clases, para intentar tener aprox 4 cluster por clase, un overlap bajo\n",
        ")\n",
        "\n",
        "mapper.visualize(graph, path_html=\"Iris.html\",custom_tooltips=y)"
      ],
      "metadata": {
        "colab": {
          "base_uri": "https://localhost:8080/",
          "height": 226
        },
        "id": "2w1sz9VG7HTw",
        "outputId": "f2b1b263-b179-42df-bb85-71d9c23ff04b"
      },
      "execution_count": null,
      "outputs": [
        {
          "output_type": "stream",
          "name": "stdout",
          "text": [
            "Mapping on data shaped (150, 4) using lens shaped (150, 1)\n",
            "\n",
            "Creating 12 hypercubes.\n",
            "\n",
            "Created 7 edges and 9 nodes in 0:00:00.069449.\n",
            "Wrote visualization to: Iris.html\n"
          ]
        },
        {
          "output_type": "execute_result",
          "data": {
            "text/plain": [
              "'<!DOCTYPE html>\\n<html>\\n\\n<head>\\n  <meta charset=\"utf-8\">\\n  <meta name=\"generator\" content=\"KeplerMapper\">\\n  <title>Kepler Mapper | KeplerMapper</title>\\n\\n  <link rel=\"icon\" type=\"image/png\" href=\"http://i.imgur.com/axOG6GJ.jpg\" />\\n\\n  <link href=\\'https://fonts.googleapis.com/css?family=Roboto+Mono:700,300\\' rel=\\'stylesheet\\' type=\\'text/css\\'>\\n  <style>* {\\n  margin: 0;\\n  padding: 0;\\n}\\n\\nhtml, body {\\n  height: 100%;\\n}\\n\\nbody {\\n  font-family: \"Roboto Mono\", \"Helvetica\", sans-serif;\\n  font-size: 14px;\\n}\\n\\n#logo {\\n  width:  85px;\\n  height: 85px;\\n}\\n\\n#display {\\n  color: #95A5A6;\\n  background: #212121;\\n}\\n\\n#header {\\n  background: #111111;\\n}\\n\\n#print {\\n  color: #000;\\n  background: #FFF;\\n}\\n\\nh1 {\\n  font-size: 21px;\\n  font-weight: 300;\\n  font-weight: 300;\\n}\\n\\nh2 {\\n  font-size: 18px;\\n  padding-bottom: 20px;\\n  font-weight: 300;\\n}\\n\\nh3 {\\n  font-size: 14px;\\n  font-weight: 700;\\n  text-transform: uppercase;\\n}\\n\\nh4 {\\n  font-size: 13px;\\n  font-weight: 700;\\n  text-transform: uppercase;\\n  padding-bottom:0px;\\n}\\n\\n\\n#meta_content h3 {\\n  float: left;\\n  padding-right: 8px;\\n}\\n\\np, #tooltip_content h3, ol, ul, table {\\n  padding-bottom: 10px;\\n}\\n\\nol, ul {\\n  padding-left: 20px;\\n}\\n\\nol b {\\n  display: block;\\n}\\n\\na {\\n  color: #16a085;\\n  text-decoration: none;\\n}\\n\\n.pane {\\n  position: relative;\\n}\\n\\n.pane-left {\\n  float: left;\\n}\\n\\n.pane-right {\\n  float: right;\\n}\\n\\na:hover {\\n  color: #2ecc71;\\n}\\n\\n.banner {\\n  /* height: 35px; */\\n  padding: 10px 0px;\\n}\\n\\n\\n#print #header {\\n  background: #FFF;\\n}\\n\\n\\n#canvas {\\n  width: 100%;\\n}\\n\\n#svg {\\n  position: absolute;\\n}\\n\\n#toolbar {\\n  padding-top: 5px;\\n  margin-bottom: 5px;\\n  width: 100%;\\n}\\n\\n#display #toolbar {\\n}\\n\\n#display .banner {\\n  border-top: 1px solid #000;\\n}\\n\\n.inline-block {\\n  display: inline-block;\\n}\\n\\n.tool_item {\\n  padding-left: 10px;\\n  padding-right: 10px;\\n}\\n\\n.pane_content {\\n  width: 300px;\\n  height:100%;\\n  padding: 20px;\\n  overflow: auto;\\n  display: none;\\n}\\n\\n.pane {\\n  z-index: 1;\\n}\\n\\n#display .pane_content {\\n  background: #191919;\\n}\\n\\n#print .pane_content{\\n  background: #FFF;\\n}\\n\\n#meta_content::-webkit-scrollbar, #tooltip_content::-webkit-scrollbar {\\n  width: 1em;\\n}\\n\\n#meta_content::-webkit-scrollbar-track, #tooltip_content::-webkit-scrollbar-track {\\n  -webkit-box-shadow: inset 0 0 6px rgba(0, 0, 0, 0.3);\\n}\\n\\n#meta_content::-webkit-scrollbar-thumb, #tooltip_content::-webkit-scrollbar-thumb {\\n  background-color: darkgrey;\\n  outline: 1px solid slategrey;\\n}\\n\\n.histogram {\\n  display: block;\\n  height: 100px;\\n  padding-top: 50px;\\n  clear: both;\\n}\\n\\n#display .histogram {\\n  opacity: 0.68;\\n}\\n\\n.bin {\\n  width: 10%;\\n  float: left;\\n}\\n\\n.bin div {\\n  font-size: 10px;\\n  display: block;\\n  width: 35px;\\n  margin-top: -30px;\\n  text-align: right;\\n  margin-left: -3px;\\n  -webkit-transform: rotate(-90deg);\\n  -moz-transform: rotate(-90deg);\\n  -ms-transform: rotate(-90deg);\\n  -o-transform: rotate(-90deg);\\n}\\n\\n.histogram:hover {\\n  opacity: 1.;\\n}\\n\\n#display .circle {\\n  stroke-opacity: 0.18;\\n  stroke-width: 7px;\\n  stroke: #000;\\n}\\n\\n#print .circle {\\n  stroke-opacity: 1;\\n  stroke-width: 2px;\\n  stroke: #000;\\n  stroke-linecap: round;\\n}\\n\\n#print .link {\\n  stroke: #000;\\n}\\n\\n#display .link {\\n  stroke: rgba(160, 160, 160, 0.5);\\n}\\n\\ntable {\\n  border-collapse: collapse;\\n  display: table;\\n  width: 100%;\\n  margin-bottom: 20px;\\n}\\n\\ntd, th {\\n  padding: 5px;\\n  text-align: left;\\n}\\n\\n#display th {\\n  background: #212121\\n}\\n\\ntd {\\n  border-bottom: 1px solid #111;\\n}\\n\\n.highlight {\\n  filter: url(#drop-shadow-pulse);\\n}\\n\\n.control-row {\\n  padding: 5px 0px;\\n}\\n\\n.btn {\\n  display: inline-block;\\n  padding: 0.35em 1.2em;\\n  border: 0.1em solid #FFFFFF;\\n  margin: 0 0.3em 0.3em 0;\\n  border-radius: 0.12em;\\n  box-sizing: border-box;\\n  text-decoration: none;\\n  background-color: transparent;\\n  font-weight: 300;\\n  color: #FFFFFF;\\n  text-align: center;\\n  transition: all 0.2s;\\n}\\n\\n.btn:hover {\\n  color: #000000;\\n  background-color: #FFFFFF;\\n}\\n\\n.btn:disabled {\\n  color: #FFFFFF;\\n  opacity: .35;\\n}\\n\\n#print .btn {\\n  color: #000;\\n  border-color: #000\\n}\\n\\n#print .btn:hover {\\n  color: #FFFFFF;\\n  background-color: #000000\\n}\\n\\n#print .btn:disabled {}\\n\\n#toolbar .btn {\\n  padding: 0 1.2em;\\n}\\n\\nlabel {\\n  display: inline-block;\\n  margin-bottom: .5rem;\\n}\\n\\n#config-file-loader {\\n  margin-bottom: .5em;\\n}\\n\\n.btn:not(:disabled):not(.disabled) {\\n    cursor: pointer;\\n}\\n\\n.wrap {\\n  display: flex;\\n}\\n\\n.wrap-header div:last-child {\\n  margin-left: auto;\\n}\\n\\n.wrap-end {\\n  justify-content: flex-end;\\n}\\n\\n.wrap-logo {\\n  display: flex;\\n  justify-content: center;\\n  align-items: center;\\n}\\n\\n.wrap-logo .logo {\\n  margin: auto;\\n}\\n\\n.wrap-header {\\n  /* padding: 5px 10px; */\\n  padding: 5px 5px 5px 10px;\\n  justify-content: space-between;\\n}\\n\\n#display .wrap-header {\\n  box-shadow: 0px 0px 4px #000;\\n}\\n\\n.toolbar-container {\\n  margin-left: -10px;\\n}\\n</style>\\n\\n</head>\\n\\n<body id=\"display\">\\n\\n  <!-- Variables used later -->\\n  <script>\\n    const graph = {\"links\": [{\"source\": 0, \"target\": 1, \"width\": 1}, {\"source\": 1, \"target\": 2, \"width\": 1}, {\"source\": 3, \"target\": 4, \"width\": 1}, {\"source\": 4, \"target\": 5, \"width\": 1}, {\"source\": 5, \"target\": 6, \"width\": 1}, {\"source\": 6, \"target\": 7, \"width\": 1}, {\"source\": 7, \"target\": 8, \"width\": 1}], \"nodes\": [{\"color\": [[0.14161073825503356]], \"id\": \"\", \"name\": \"cube0_cluster0\", \"size\": 3, \"tooltip\": {\"cluster_stats\": {\"above\": [], \"below\": [], \"size\": 10}, \"custom_tooltips\": [0, 0, 0, 0, 0, 0, 0, 0, 0, 0], \"dist_label\": \"Member\", \"histogram\": [[{\"color\": \"rgb(70, 18, 100)\", \"height\": 100.0, \"perc\": 60.0}, {\"color\": \"rgb(68, 51, 125)\", \"height\": 0.0, \"perc\": 0.0}, {\"color\": \"rgb(58, 80, 138)\", \"height\": 33.0, \"perc\": 20.0}, {\"color\": \"rgb(46, 107, 141)\", \"height\": 33.0, \"perc\": 20.0}, {\"color\": \"rgb(36, 131, 141)\", \"height\": 0.0, \"perc\": 0.0}, {\"color\": \"rgb(33, 155, 136)\", \"height\": 0.0, \"perc\": 0.0}, {\"color\": \"rgb(51, 178, 121)\", \"height\": 0.0, \"perc\": 0.0}, {\"color\": \"rgb(94, 199, 96)\", \"height\": 0.0, \"perc\": 0.0}, {\"color\": \"rgb(155, 215, 59)\", \"height\": 0.0, \"perc\": 0.0}, {\"color\": \"rgb(220, 226, 37)\", \"height\": 0.0, \"perc\": 0.0}]], \"node_id\": \"cube0_cluster0\", \"projection_stats\": []}, \"type\": \"circle\"}, {\"color\": [[0.15460210930009585]], \"id\": \"\", \"name\": \"cube1_cluster0\", \"size\": 4, \"tooltip\": {\"cluster_stats\": {\"above\": [], \"below\": [], \"size\": 28}, \"custom_tooltips\": [0, 0, 0, 0, 0, 0, 0, 0, 0, 0, 0, 0, 0, 0, 0, 0, 0, 0, 0, 0, 0, 0, 0, 0, 0, 0, 0, 0], \"dist_label\": \"Member\", \"histogram\": [[{\"color\": \"rgb(70, 18, 100)\", \"height\": 100.0, \"perc\": 35.7}, {\"color\": \"rgb(68, 51, 125)\", \"height\": 80.0, \"perc\": 28.6}, {\"color\": \"rgb(58, 80, 138)\", \"height\": 70.0, \"perc\": 25.0}, {\"color\": \"rgb(46, 107, 141)\", \"height\": 30.0, \"perc\": 10.7}, {\"color\": \"rgb(36, 131, 141)\", \"height\": 0.0, \"perc\": 0.0}, {\"color\": \"rgb(33, 155, 136)\", \"height\": 0.0, \"perc\": 0.0}, {\"color\": \"rgb(51, 178, 121)\", \"height\": 0.0, \"perc\": 0.0}, {\"color\": \"rgb(94, 199, 96)\", \"height\": 0.0, \"perc\": 0.0}, {\"color\": \"rgb(155, 215, 59)\", \"height\": 0.0, \"perc\": 0.0}, {\"color\": \"rgb(220, 226, 37)\", \"height\": 0.0, \"perc\": 0.0}]], \"node_id\": \"cube1_cluster0\", \"projection_stats\": []}, \"type\": \"circle\"}, {\"color\": [[0.17673378076062637]], \"id\": \"\", \"name\": \"cube2_cluster0\", \"size\": 4, \"tooltip\": {\"cluster_stats\": {\"above\": [], \"below\": [], \"size\": 21}, \"custom_tooltips\": [0, 0, 0, 0, 0, 0, 0, 0, 0, 0, 0, 0, 0, 0, 0, 0, 0, 0, 0, 0, 0], \"dist_label\": \"Member\", \"histogram\": [[{\"color\": \"rgb(70, 18, 100)\", \"height\": 30.0, \"perc\": 14.3}, {\"color\": \"rgb(68, 51, 125)\", \"height\": 100.0, \"perc\": 47.6}, {\"color\": \"rgb(58, 80, 138)\", \"height\": 60.0, \"perc\": 28.6}, {\"color\": \"rgb(46, 107, 141)\", \"height\": 20.0, \"perc\": 9.5}, {\"color\": \"rgb(36, 131, 141)\", \"height\": 0.0, \"perc\": 0.0}, {\"color\": \"rgb(33, 155, 136)\", \"height\": 0.0, \"perc\": 0.0}, {\"color\": \"rgb(51, 178, 121)\", \"height\": 0.0, \"perc\": 0.0}, {\"color\": \"rgb(94, 199, 96)\", \"height\": 0.0, \"perc\": 0.0}, {\"color\": \"rgb(155, 215, 59)\", \"height\": 0.0, \"perc\": 0.0}, {\"color\": \"rgb(220, 226, 37)\", \"height\": 0.0, \"perc\": 0.0}]], \"node_id\": \"cube2_cluster0\", \"projection_stats\": []}, \"type\": \"circle\"}, {\"color\": [[0.4815436241610738]], \"id\": \"\", \"name\": \"cube4_cluster0\", \"size\": 3, \"tooltip\": {\"cluster_stats\": {\"above\": [], \"below\": [], \"size\": 8}, \"custom_tooltips\": [1, 1, 1, 1, 1, 1, 1, 1], \"dist_label\": \"Member\", \"histogram\": [[{\"color\": \"rgb(70, 18, 100)\", \"height\": 0.0, \"perc\": 0.0}, {\"color\": \"rgb(68, 51, 125)\", \"height\": 0.0, \"perc\": 0.0}, {\"color\": \"rgb(58, 80, 138)\", \"height\": 0.0, \"perc\": 0.0}, {\"color\": \"rgb(46, 107, 141)\", \"height\": 50.0, \"perc\": 25.0}, {\"color\": \"rgb(36, 131, 141)\", \"height\": 50.0, \"perc\": 25.0}, {\"color\": \"rgb(33, 155, 136)\", \"height\": 100.0, \"perc\": 50.0}, {\"color\": \"rgb(51, 178, 121)\", \"height\": 0.0, \"perc\": 0.0}, {\"color\": \"rgb(94, 199, 96)\", \"height\": 0.0, \"perc\": 0.0}, {\"color\": \"rgb(155, 215, 59)\", \"height\": 0.0, \"perc\": 0.0}, {\"color\": \"rgb(220, 226, 37)\", \"height\": 0.0, \"perc\": 0.0}]], \"node_id\": \"cube4_cluster0\", \"projection_stats\": []}, \"type\": \"circle\"}, {\"color\": [[0.5589645254074785]], \"id\": \"\", \"name\": \"cube5_cluster0\", \"size\": 3, \"tooltip\": {\"cluster_stats\": {\"above\": [], \"below\": [], \"size\": 14}, \"custom_tooltips\": [1, 1, 1, 1, 1, 1, 1, 1, 1, 1, 1, 1, 1, 1], \"dist_label\": \"Member\", \"histogram\": [[{\"color\": \"rgb(70, 18, 100)\", \"height\": 0.0, \"perc\": 0.0}, {\"color\": \"rgb(68, 51, 125)\", \"height\": 0.0, \"perc\": 0.0}, {\"color\": \"rgb(58, 80, 138)\", \"height\": 0.0, \"perc\": 0.0}, {\"color\": \"rgb(46, 107, 141)\", \"height\": 17.0, \"perc\": 7.1}, {\"color\": \"rgb(36, 131, 141)\", \"height\": 50.0, \"perc\": 21.4}, {\"color\": \"rgb(33, 155, 136)\", \"height\": 67.0, \"perc\": 28.6}, {\"color\": \"rgb(51, 178, 121)\", \"height\": 100.0, \"perc\": 42.9}, {\"color\": \"rgb(94, 199, 96)\", \"height\": 0.0, \"perc\": 0.0}, {\"color\": \"rgb(155, 215, 59)\", \"height\": 0.0, \"perc\": 0.0}, {\"color\": \"rgb(220, 226, 37)\", \"height\": 0.0, \"perc\": 0.0}]], \"node_id\": \"cube5_cluster0\", \"projection_stats\": []}, \"type\": \"circle\"}, {\"color\": [[0.5523489932885907]], \"id\": \"\", \"name\": \"cube6_cluster0\", \"size\": 4, \"tooltip\": {\"cluster_stats\": {\"above\": [], \"below\": [], \"size\": 20}, \"custom_tooltips\": [1, 1, 1, 1, 1, 1, 1, 1, 1, 1, 1, 1, 1, 1, 1, 1, 2, 2, 2, 2], \"dist_label\": \"Member\", \"histogram\": [[{\"color\": \"rgb(70, 18, 100)\", \"height\": 0.0, \"perc\": 0.0}, {\"color\": \"rgb(68, 51, 125)\", \"height\": 0.0, \"perc\": 0.0}, {\"color\": \"rgb(58, 80, 138)\", \"height\": 0.0, \"perc\": 0.0}, {\"color\": \"rgb(46, 107, 141)\", \"height\": 50.0, \"perc\": 15.0}, {\"color\": \"rgb(36, 131, 141)\", \"height\": 100.0, \"perc\": 30.0}, {\"color\": \"rgb(33, 155, 136)\", \"height\": 83.0, \"perc\": 25.0}, {\"color\": \"rgb(51, 178, 121)\", \"height\": 50.0, \"perc\": 15.0}, {\"color\": \"rgb(94, 199, 96)\", \"height\": 17.0, \"perc\": 5.0}, {\"color\": \"rgb(155, 215, 59)\", \"height\": 17.0, \"perc\": 5.0}, {\"color\": \"rgb(220, 226, 37)\", \"height\": 17.0, \"perc\": 5.0}]], \"node_id\": \"cube6_cluster0\", \"projection_stats\": []}, \"type\": \"circle\"}, {\"color\": [[0.6373257614868353]], \"id\": \"\", \"name\": \"cube7_cluster0\", \"size\": 4, \"tooltip\": {\"cluster_stats\": {\"above\": [], \"below\": [], \"size\": 26}, \"custom_tooltips\": [1, 1, 1, 1, 1, 1, 1, 1, 1, 1, 1, 1, 1, 1, 2, 2, 2, 2, 2, 2, 2, 2, 2, 2, 2, 2], \"dist_label\": \"Member\", \"histogram\": [[{\"color\": \"rgb(70, 18, 100)\", \"height\": 0.0, \"perc\": 0.0}, {\"color\": \"rgb(68, 51, 125)\", \"height\": 0.0, \"perc\": 0.0}, {\"color\": \"rgb(58, 80, 138)\", \"height\": 0.0, \"perc\": 0.0}, {\"color\": \"rgb(46, 107, 141)\", \"height\": 100.0, \"perc\": 23.1}, {\"color\": \"rgb(36, 131, 141)\", \"height\": 33.0, \"perc\": 7.7}, {\"color\": \"rgb(33, 155, 136)\", \"height\": 100.0, \"perc\": 23.1}, {\"color\": \"rgb(51, 178, 121)\", \"height\": 17.0, \"perc\": 3.8}, {\"color\": \"rgb(94, 199, 96)\", \"height\": 33.0, \"perc\": 7.7}, {\"color\": \"rgb(155, 215, 59)\", \"height\": 83.0, \"perc\": 19.2}, {\"color\": \"rgb(220, 226, 37)\", \"height\": 67.0, \"perc\": 15.4}]], \"node_id\": \"cube7_cluster0\", \"projection_stats\": []}, \"type\": \"circle\"}, {\"color\": [[0.824244966442953]], \"id\": \"\", \"name\": \"cube8_cluster0\", \"size\": 3, \"tooltip\": {\"cluster_stats\": {\"above\": [], \"below\": [], \"size\": 16}, \"custom_tooltips\": [1, 2, 2, 2, 2, 2, 2, 2, 2, 2, 2, 2, 2, 2, 2, 2], \"dist_label\": \"Member\", \"histogram\": [[{\"color\": \"rgb(70, 18, 100)\", \"height\": 0.0, \"perc\": 0.0}, {\"color\": \"rgb(68, 51, 125)\", \"height\": 0.0, \"perc\": 0.0}, {\"color\": \"rgb(58, 80, 138)\", \"height\": 0.0, \"perc\": 0.0}, {\"color\": \"rgb(46, 107, 141)\", \"height\": 0.0, \"perc\": 0.0}, {\"color\": \"rgb(36, 131, 141)\", \"height\": 0.0, \"perc\": 0.0}, {\"color\": \"rgb(33, 155, 136)\", \"height\": 17.0, \"perc\": 6.2}, {\"color\": \"rgb(51, 178, 121)\", \"height\": 33.0, \"perc\": 12.5}, {\"color\": \"rgb(94, 199, 96)\", \"height\": 83.0, \"perc\": 31.2}, {\"color\": \"rgb(155, 215, 59)\", \"height\": 33.0, \"perc\": 12.5}, {\"color\": \"rgb(220, 226, 37)\", \"height\": 100.0, \"perc\": 37.5}]], \"node_id\": \"cube8_cluster0\", \"projection_stats\": []}, \"type\": \"circle\"}, {\"color\": [[0.8483221476510068]], \"id\": \"\", \"name\": \"cube9_cluster0\", \"size\": 3, \"tooltip\": {\"cluster_stats\": {\"above\": [], \"below\": [], \"size\": 15}, \"custom_tooltips\": [2, 2, 2, 2, 2, 2, 2, 2, 2, 2, 2, 2, 2, 2, 2], \"dist_label\": \"Member\", \"histogram\": [[{\"color\": \"rgb(70, 18, 100)\", \"height\": 0.0, \"perc\": 0.0}, {\"color\": \"rgb(68, 51, 125)\", \"height\": 0.0, \"perc\": 0.0}, {\"color\": \"rgb(58, 80, 138)\", \"height\": 0.0, \"perc\": 0.0}, {\"color\": \"rgb(46, 107, 141)\", \"height\": 0.0, \"perc\": 0.0}, {\"color\": \"rgb(36, 131, 141)\", \"height\": 0.0, \"perc\": 0.0}, {\"color\": \"rgb(33, 155, 136)\", \"height\": 0.0, \"perc\": 0.0}, {\"color\": \"rgb(51, 178, 121)\", \"height\": 33.0, \"perc\": 13.3}, {\"color\": \"rgb(94, 199, 96)\", \"height\": 33.0, \"perc\": 13.3}, {\"color\": \"rgb(155, 215, 59)\", \"height\": 83.0, \"perc\": 33.3}, {\"color\": \"rgb(220, 226, 37)\", \"height\": 100.0, \"perc\": 40.0}]], \"node_id\": \"cube9_cluster0\", \"projection_stats\": []}, \"type\": \"circle\"}]};\\n    const colorscale = [[0.0, \"rgb(68, 1, 84)\"], [0.1, \"rgb(72, 35, 116)\"], [0.2, \"rgb(64, 67, 135)\"], [0.3, \"rgb(52, 94, 141)\"], [0.4, \"rgb(41, 120, 142)\"], [0.5, \"rgb(32, 144, 140)\"], [0.6, \"rgb(34, 167, 132)\"], [0.7, \"rgb(68, 190, 112)\"], [0.8, \"rgb(121, 209, 81)\"], [0.9, \"rgb(189, 222, 38)\"], [1.0, \"rgb(253, 231, 36)\"]];\\n    const summary = {\"color_function_name\": [\"Row number\"], \"custom_meta\": {\"clusterer\": \"DBSCAN()\", \"n_cubes\": 12, \"perc_overlap\": 0.2, \"projection\": \"sum\", \"scaler\": \"MinMaxScaler()\"}, \"n_edges\": 7, \"n_nodes\": 9, \"n_total\": 158, \"n_unique\": 129, \"node_color_function\": [\"mean\"]};\\n    const summary_histogram = [[[{\"color\": \"rgb(70, 18, 100)\", \"height\": 0.0, \"perc\": 0.0}, {\"color\": \"rgb(68, 51, 125)\", \"height\": 100.0, \"perc\": 33.3}, {\"color\": \"rgb(58, 80, 138)\", \"height\": 0.0, \"perc\": 0.0}, {\"color\": \"rgb(46, 107, 141)\", \"height\": 0.0, \"perc\": 0.0}, {\"color\": \"rgb(36, 131, 141)\", \"height\": 33.0, \"perc\": 11.1}, {\"color\": \"rgb(33, 155, 136)\", \"height\": 67.0, \"perc\": 22.2}, {\"color\": \"rgb(51, 178, 121)\", \"height\": 33.0, \"perc\": 11.1}, {\"color\": \"rgb(94, 199, 96)\", \"height\": 0.0, \"perc\": 0.0}, {\"color\": \"rgb(155, 215, 59)\", \"height\": 67.0, \"perc\": 22.2}, {\"color\": \"rgb(220, 226, 37)\", \"height\": 0.0, \"perc\": 0.0}]]];\\n  </script>\\n\\n  <div id=\"header\">\\n    <div class=\"wrap wrap-header\">\\n\\n      <div class=\"\">\\n\\n        <!-- toolbar -->\\n        <div class=\"toolbar-container\">\\n        \\n<div id=\"toolbar\" class=\\'wrap\\'>\\n    <div id=\"tooltip_control\" class=\"tool_item\">\\n        <h3>\\n        <a href=\"#\"><small id=\"tooltip_tag\">[+]</small></a>\\n        Cluster Details\\n        </h3>\\n    </div>\\n\\n    <div id=\"meta_control\" class=\"tool_item\">\\n        <h3>\\n        <a href=\"#\"><small id=\"meta_tag\">[+]</small></a>\\n        Mapper Summary\\n        </h3>\\n    </div>\\n\\n    <div id=\"help_control\" class=\"tool_item\">\\n        <h3>\\n        <a href=\"#\"><small id=\"helptip_tag\">[+]</small></a>\\n        Help\\n        </h3>\\n    </div>\\n\\n    \\n\\n    \\n\\n    \\n\\n</div>\\n        </div>\\n        <!-- /toolbar -->\\n\\n        <div class=\\'banner\\'>\\n          <noscript><b>Requires JavaScript (d3.js) for visualizations</b></noscript>\\n          <h1> Kepler Mapper </h1>\\n        </div>\\n\\n      </div>\\n\\n      <div class=\"wrap-logo\">\\n        <img id=\"logo\" class=\\'logo\\' src=\"data:image/png;base64, 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\">\\n      </div>\\n    </div>\\n\\n  </div>\\n\\n    <div id=\"canvas\" class=\\'canvas\\'>\\n      <!-- Graph will go in here -->\\n      <svg id=\\'svg\\'>\\n        <defs>\\n          <filter id=\"drop-shadow-glow\" filterUnits=\"userSpaceOnUse\" width=\"250%\" height=\"250%\">\\n            <feGaussianBlur in=\"SourceGraphic\" stdDeviation=\"12\" result=\"blur-out\"/>\\n            <feColorMatrix in=\"blur-out\" type=\"hueRotate\" values=\"0\" result=\"color-out\"/>\\n            <feOffset in=\"color-out\" dx=\"0\" dy=\"0\" result=\"the-shadow\"/>\\n            <feComponentTransfer type=\"linear\" slope=\"0.2\" result=\"shadow-opacity\"/>\\n            <feBlend in=\"SourceGraphic\" in2=\"the-shadow\" mode=\"normal\"/>\\n          </filter>\\n          <filter id=\"drop-shadow-pulse\" filterUnits=\"userSpaceOnUse\" width=\"250%\" height=\"250%\">\\n            <feGaussianBlur in=\"SourceGraphic\" stdDeviation=\"12\" result=\"blur-out\">\\n              <animate attributeName=\"stdDeviation\" from=\"0\" to=\"100\" dur=\"1.5s\" repeatCount=\"indefinite\" />\\n            </feGaussianBlur>\\n            <feColorMatrix in=\"blur-out\" type=\"hueRotate\" values=\"0\" result=\"color-out\"/>\\n            <feOffset in=\"color-out\" dx=\"0\" dy=\"0\" result=\"the-shadow\"/>\\n            <feComponentTransfer type=\"linear\" slope=\"0.2\" result=\"shadow-opacity\"/>\\n            <feBlend in=\"SourceGraphic\" in2=\"the-shadow\" mode=\"normal\"/>\\n          </filter>\\n        </defs>\\n      </svg>\\n\\n    <!-- Panes for each of the tips -->\\n    <div id=\"tooltip\" class=\\'pane pane-left\\'>\\n      <div id=\"tooltip_content\" class=\"pane_content\">\\n        <div id=\\'tooltip_content_no_focus_node\\'>\\n          Hover over a node to see attributes about it.\\n        </div>\\n        <div id=\\'tooltip_content_focus_node\\' style=\\'display:none\\'>\\n        <div>\\n  <div class=\\'actions\\'>\\n    <h3>Actions</h3>\\n    <p>\\n      <button class=\\'btn center-on-node\\'>Center viewport on node</button>\\n    </p>\\n  </div>\\n\\n  <div class=\\'details\\'>\\n    <h2>Cluster Details <span style=\"font-size:0.7em\">(node id: <span class=\\'node_id\\'></span>)</span></h2>\\n\\n    <!-- histogram -->\\n    <div class=\\'histogram-wrapper\\'>\\n      <hr><br/>\\n\\n      <h3><span class=\\'distribution_label\\'></span> Distribution</h3>\\n\\n      <div class=\"histogram\"></div>\\n\\n      <br><br>\\n    </div>\\n    <!-- /histogram -->\\n\\n    <!-- Projection Statistics -->\\n    <div class=\\'projection_stats\\' style=\\'display:none\\'>\\n\\n      <hr><br/>\\n\\n      <h3>Projection Statistics</h3>\\n      <table>\\n        <thead>\\n          <tr>\\n            <th>Lens</th>\\n            <th style=\"width:50px;\"><small>Mean</small></th>\\n            <th style=\"width:50px;\"><small>Max</small></th>\\n            <th style=\"width:50px;\"><small>Min</small></th>\\n          </tr>\\n        </thead>\\n        <tbody></tbody>\\n      </table>\\n    </div>\\n\\n    <!-- Cluster Statistics -->\\n    <div class=\\'cluster_stats\\'>\\n        <hr><br/>\\n\\n        <h3>Cluster Statistics</h3>\\n        <div class=\\'above-wrapper\\'>\\n            <h3>Above Average</h3>\\n            <table>\\n              <thead>\\n                <tr>\\n                  <th>Feature</th>\\n                  <th style=\"width:50px;\"><small>Mean</small></th>\\n                  <th style=\"width:50px;\"><small>STD</small></th>\\n                </tr>\\n              </thead>\\n              <tbody></tbody>\\n            </table>\\n        </div>\\n\\n        <div class=\\'below-wrapper\\'>\\n            <h3>Below Average</h3>\\n            <table>\\n              <thead>\\n                <tr>\\n                  <th>Feature</th>\\n                  <th style=\"width:50px;\"><small>Mean</small></th>\\n                  <th style=\"width:50px;\"><small>STD</small></th>\\n                </tr>\\n              </thead>\\n              <tbody></tbody>\\n            </table>\\n        </div>\\n\\n        <h3>Size</h3>\\n        <p class=\\'cluster-size\\'></p>\\n    </div>\\n\\n    <!-- Membership information -->\\n    <div class=\\'membership-information\\'>\\n      <hr> <br/>\\n\\n      <h3>Members</h3>\\n      <div class=\\'list-of-members\\'></div>\\n\\n      <br><br>\\n      <hr><br>\\n    </div>\\n    <!-- /membership information -->\\n  </div>\\n</div>\\n        </div>\\n      </div>\\n    </div>\\n\\n    <div id=\"helptip\" class=\\'pane pane-right\\'>\\n      <div id=\"helptip_content\" class=\"pane_content\">\\n        <!-- Help pane.\\n    TODO: Add more information here.  -->\\n\\n<ul>\\n<li>Click on a node to lock focus on that node. The node with the current focus will pulse. Click off of a node to release the lock.</li>\\n<li>Dragging a node will fix its position on the screen. Double-click a fixed-position node to unfreeze it.</li>\\n</ul>\\n\\n<table>\\n    <tr>\\n        <th>Key</th>\\n        <th><small>Action</small></th>\\n    </tr>\\n\\n    <tr>\\n        <td>s</td>\\n        <td><small>Nodes glow :D</small></td>\\n    </tr>\\n\\n    <tr>\\n        <td>c</td>\\n        <td><small>remove glow</small></td>\\n    </tr>\\n\\n    <tr>\\n        <td>p</td>\\n        <td><small>Print mode - white backgrounds</small></td>\\n    </tr>\\n\\n    <tr>\\n        <td>d</td>\\n        <td><small>Display mode - black backgrounds</small></td>\\n    </tr>\\n\\n    <tr>\\n        <td>z</td>\\n        <td><small>Turn off gravity</small></td>\\n    </tr>\\n\\n    <tr>\\n        <td>m</td>\\n        <td><small>Spacious layout</small></td>\\n    </tr>\\n\\n    <tr>\\n        <td>e</td>\\n        <td><small>Tight layout</small></td>\\n    </tr>\\n\\n    <tr>\\n        <td>f</td>\\n        <td><small>Freeze layout</small></td>\\n    </tr>\\n\\n    <tr>\\n        <td>x</td>\\n        <td><small>Unfreeze all nodes</small></td>\\n    </tr>\\n\\n</table>\\n\\n<div class=\"control-wrapper\">\\n  <div class=\"control-row\">\\n    <button class=\\'btn\\' type=\"button\" id=\"download-config\" name=\"download-config\">Save config</button>\\n  </div>\\n\\n  <div class=\"control-row\">\\n    <label for=\"config-file-loader\">Load config file</label>\\n    <input type=\"file\" id=\"config-file-loader\" name=\"config-file-loader\" accept=\"application/json\">\\n    <button class=\\'btn\\' id=\\'load-config\\' disabled>Load</button>\\n  </div>\\n</div>\\n      </div>\\n    </div>\\n\\n    <div id=\"meta\" class=\\'pane pane-right\\'>\\n      <div id=\"meta_content\" class=\"pane_content\">\\n        <h2>Mapper Summary</h2>\\n\\n<hr><br>\\n\\n\\n    \\n        <h3>projection </h3> <p> sum</p>\\n    \\n        <h3>n_cubes </h3> <p> 12</p>\\n    \\n        <h3>perc_overlap </h3> <p> 0.2</p>\\n    \\n        <h3>clusterer </h3> <p> DBSCAN()</p>\\n    \\n        <h3>scaler </h3> <p> MinMaxScaler()</p>\\n    \\n\\n\\n<h3>Nodes</h3><p> 9 </p>\\n\\n<h3>Edges</h3><p> 7 </p>\\n\\n<h3>Total Samples</h3><p> 158</p>\\n\\n<h3>Unique Samples</h3><p> 129</p>\\n\\n<h3>Color function</h3><p>\\n  Row number\\n</p>\\n\\n<h3>Node Color Function</h3><p> mean</p>\\n\\n\\n<!-- histogram -->\\n<hr><br/>\\n\\n<h3>Node Distribution</h3>\\n\\n<div class=\"histogram\"></div>\\n\\n<br><br>\\n<!-- /histogram -->\\n\\n<hr><br>\\n      </div>\\n    </div>\\n\\n  </div>\\n\\n  <script src=\"https://cdnjs.cloudflare.com/ajax/libs/d3/6.1.1/d3.js\"></script>\\n  <script src=\"https://cdn.jsdelivr.net/npm/file-saver@2.0.2/dist/FileSaver.min.js\"></script>\\n\\n  <script>// Height and width settings\\nvar page_height = window.innerHeight - 5;\\nvar header_height = document.getElementById(\\'header\\').offsetHeight;\\nvar canvas_height = page_height - header_height;\\ndocument.getElementById(\"canvas\").style.height = canvas_height + \"px\";\\nvar width = document.getElementById(\"canvas\").offsetWidth;\\nvar height = document.getElementById(\"canvas\").offsetHeight;\\nvar w = width;\\nvar h = height;\\nvar padding = 40;\\n\\nvar focus_node_id = null;\\nvar focus_node = null;\\nvar text_center = false;\\nvar outline = false;\\n\\n// Size for zooming\\nvar size = d3.scalePow().exponent(1)\\n           .domain([1,100])\\n           .range([8,24]);\\n\\n// Variety of variable inits\\nvar default_node_color = \"#ccc\";\\nvar default_node_color = \"rgba(160,160,160, 0.5)\";\\nvar default_link_color = \"rgba(160,160,160, 0.5)\";\\nvar nominal_base_node_size = 8;\\nvar nominal_text_size = 15;\\nvar max_text_size = 24;\\nvar nominal_stroke = 1.0;\\nvar max_stroke = 4.5;\\nvar max_base_node_size = 36;\\nvar min_zoom = 0.1;\\nvar max_zoom = 7;\\nvar zoom;\\nvar svg, g;\\nvar simulation;\\nvar link, node;\\nvar drag;\\nvar dragging = false;\\nvar circle;\\nvar text;\\nvar focus_via_click = false;\\nvar nodes = [];\\nvar links = [];\\n\\nvar tocolor = \"fill\";\\nvar towhite = \"stroke\";\\nif (outline) {\\n  tocolor = \"stroke\";\\n  towhite = \"fill\";\\n}\\n\\n/**\\n * Side panes\\n */\\n\\n// Show/Hide Functionality\\nfunction toggle_pane(content, content_id, tag) {\\n  var active = content.active ? false : true;\\n\\n  if (active) {\\n    content_id.style(\"display\", \"block\");\\n    tag.node().textContent = \"[-]\";\\n  } else {\\n    content_id.style(\"display\", \"none\");\\n    tag.node().textContent = \"[+]\";\\n  }\\n\\n  // TODO: This is probably not the best way to find the correct height.\\n  var h = canvas_height - content.offsetTop - padding;\\n  content_id.style(\"height\", h + \"px\")\\n\\n  content.active = active;\\n}\\n\\nd3.select(\"#tooltip_control\").on(\"click\", function(e) {\\n  toggle_pane(tooltip_content,\\n              d3.select(\"#tooltip_content\"),\\n              d3.select(\"#tooltip_tag\"))\\n\\n});\\n\\nd3.select(\"#meta_control\").on(\"click\", function(e) {\\n  toggle_pane(meta_content,\\n              d3.select(\"#meta_content\"),\\n              d3.select(\"#meta_tag\"))\\n\\n});\\n\\nd3.select(\"#help_control\").on(\"click\", function(e) {\\n  toggle_pane(helptip_content,\\n              d3.select(\"#helptip_content\"),\\n              d3.select(\"#helptip_tag\"))\\n});\\n\\nd3.select(\\'#select-color-function\\').on(\\'input\\', function(e){\\n  color_function_index = parseInt(e.target.value);\\n  update_color_functions()\\n})\\nd3.select(\\'#select-node-color-function\\').on(\\'input\\', function(e){\\n  node_color_function_index = parseInt(e.target.value);\\n  update_color_functions()\\n})\\n\\n/**\\n *\\n * Set up color scale\\n *\\n *\\n */\\n// var colorscale defined in base.html\\nvar domain = colorscale.map((x)=>x[0])\\nvar palette = colorscale.map((x)=>x[1])\\n\\nvar color = d3.scaleLinear()\\n  .domain(domain)\\n  .range(palette);\\n\\n/*\\n* one-time setups, like SVG and force init\\n*/\\nfunction init() {\\n\\n  zoom = d3.zoom()\\n    .scaleExtent([min_zoom, max_zoom])\\n    .on(\\'zoom\\', zoomed)\\n\\n  // We draw the graph in SVG\\n  svg = d3.select(\"#canvas svg\")\\n          .attr(\"width\", width)\\n          .attr(\"height\", height)\\n          .style(\"cursor\",\"move\")\\n          .call(zoom)\\n          .on(\\'dblclick.zoom\\', null); // prevent default zoom-in on dblclick\\n\\n  svg.on(\\'click.focus\\', function(e){\\n    set_focus_via_click(null);\\n  });\\n\\n  g = svg.append(\"g\")\\n\\n  link = g.selectAll(\".link\")\\n  node = g.selectAll(\".node\")\\n  text = g.selectAll(\".text\")\\n\\n  simulation = d3.forceSimulation()\\n    .force(\\'charge\\', d3.forceManyBody().strength(-1200))\\n    .force(\\'center\\', d3.forceCenter(width / 2, height / 2))\\n    .force(\\'link\\', d3.forceLink().distance(5))\\n    .force(\\'x\\', d3.forceX()) // not sure what this does...\\n    .force(\\'y\\', d3.forceY())\\n    .on(\\'tick\\', ticked)\\n\\n  drag = d3.drag()\\n    .on(\"start\", function(e, d){\\n      svg.style(\\'cursor\\',\\'grabbing\\');\\n      if (!e.active) {\\n        simulation.alphaTarget(0.3).restart()\\n      }\\n      d.fx = d.x\\n      d.fy = d.y\\n      dragging = true;\\n    })\\n    .on(\\'drag\\', function(e, d){\\n      d.fx = e.x\\n      d.fy = e.y\\n    })\\n    .on(\\'end\\', function(e, d){\\n      if (!e.active) {\\n        simulation.alphaTarget(0)\\n      }\\n      dragging = false;\\n    });\\n\\n  resize();\\n  d3.select(window).on(\"resize\", resize);\\n\\n  d3.select(window).on(\"mouseup.focus\", function(e){\\n    if (focus_node == null) {\\n      set_cursor(\\'move\\');\\n    } else {\\n      set_cursor(\\'pointer\\');\\n    }\\n  });\\n}\\n\\nfunction set_histogram(selection, data){\\n  selection.selectAll(\\'.bin\\')\\n    .data(data)\\n    .join(\\n      enter => enter.append(\\'div\\')\\n        .attr(\\'class\\', \\'bin\\')\\n        .call(enter => enter.append(\\'div\\')\\n          .text(d => d.perc + \\'%\\'))\\n      ,\\n      update => update\\n        .call(update => update.select(\\'div\\')\\n          .text(d => d.perc + \\'%\\'))\\n    )\\n    .style(\\'height\\', (d) => (d.height || 1) + \\'px\\')\\n    .style(\\'background\\', (d) => d.color);\\n}\\n\\n\\n\\nvar color_function_index = 0;\\nvar node_color_function_index = 0;\\n\\nfunction reset_color_functions(){\\n  color_function_index = 0;\\n  node_color_function_index = 0;\\n  update_color_functions()\\n}\\n\\nfunction update_color_functions(){\\n  // update_meta_content_histogram\\n  set_histogram(d3.select(\\'#meta_content .histogram\\'), summary_histogram[node_color_function_index][color_function_index])\\n\\n  // update node colors\\n  node.style(tocolor, function(d) {\\n    return color(d.color[node_color_function_index][color_function_index]);\\n  })\\n\\n  // update focus node display, if focus_node\\n  if (focus_node != null){\\n    set_focus_node_histogram(focus_node)\\n  }\\n}\\n\\nfunction update_meta_content_histogram(){\\n\\n}\\n\\nfunction draw_circle_size(d) {\\n  return (d3.symbol()\\n    .size(function(d) {\\n      if (!d.size_modifier) {\\n          d.size_modifier = 1;\\n      }\\n      return d.size * 50 * d.size_modifier;\\n    })\\n    .type(d3.symbolCircle))(d)\\n}\\n\\nfunction start() {\\n\\n  /*\\n  * Force-related things\\n  *\\n  */\\n  // shallow copy to enable restarting,\\n  // because otherwise, starting the force simulation mutates the links (replaces indeces with refs)\\n  nodes = graph.nodes.map(n => Object.assign({}, n));\\n  links = graph.links.map(l => Object.assign({}, l));\\n\\n  // draw links first so that they appear behind nodes\\n  link = link\\n    .data(links)\\n    .join(\"line\")\\n      .attr(\"class\", \"link\")\\n      .style(\"stroke-width\", function(d) { return d.w * nominal_stroke; })\\n      .style(\"stroke-width\", function(d) { return d.w * nominal_stroke; });\\n\\n  node = node\\n    .data(nodes, d => d.name)\\n    .join(enter => enter.append(\"g\")\\n      .attr(\"class\", \"node\")\\n      .attr(\"id\", function(d){ return \"node-\" + d.name })\\n      // append circles...\\n      .append(\"path\")\\n        .attr(\"d\", draw_circle_size )\\n        .attr(\"class\", \"circle\")\\n        .on(\"mouseover.focus\", node_mouseover)\\n        .on(\"mouseout.focus\", node_mouseout)\\n        .on(\\'mousedown.focus\\', node_mousedown)\\n        .on(\"dblclick.freeze\", (e, d) => unfreeze_node(d) )\\n        .on(\\'click.zoom\\', node_click)\\n        .on(\\'center_viewport\\', center_on_node)\\n        .call(drag));\\n\\n  simulation.nodes(nodes);\\n  simulation.force(\\'link\\').links(links);\\n  simulation.alpha(1).restart()\\n\\n  reset_color_functions()\\n}\\n\\ninit();\\nstart();\\n\\nfunction restart() {\\n  // nodes = []\\n  // links = []\\n  // node.remove()\\n  // link.remove()\\n  focus_via_click = false;\\n  start()\\n}\\n\\nfunction zoomed({transform}){\\n  g.attr(\\'transform\\', transform)\\n}\\n\\nfunction ticked() {\\n  node.attr(\"transform\", function(d) { return \"translate(\" + d.x + \",\" + d.y + \")\"; })\\n      .attr(\"cx\", function(d) { return d.x; })\\n      .attr(\"cy\", function(d) { return d.y; })\\n\\n  link.attr(\"x1\", function(d) { return d.source.x; })\\n      .attr(\"y1\", function(d) { return d.source.y; })\\n      .attr(\"x2\", function(d) { return d.target.x; })\\n      .attr(\"y2\", function(d) { return d.target.y; });\\n}\\n\\n/*\\n* Resizing window and redraws\\n*/\\nfunction resize() {\\n  var width = document.getElementById(\"canvas\").offsetWidth;\\n  var height = document.getElementById(\"canvas\").offsetHeight;\\n\\n  svg.attr(\"width\", width)\\n     .attr(\"height\", height);\\n\\n  simulation.force(\\'center\\', d3.forceCenter(width / 2, height / 2));\\n  simulation.alpha(.3).restart();\\n\\n  w = width;\\n  h = height;\\n}\\n\\nfunction set_focus_via_click(d) {\\n  focus_via_click = (d != null ? true : false);\\n  set_focus_node(d);\\n}\\n\\nfunction do_above_below_stats(wrapper, data) {\\n  let column_order = [\\'feature\\', \\'mean\\', \\'std\\'];\\n  wrapper.select(\\'tbody\\')\\n    .selectAll(\\'tr\\')\\n    .data(data, d => d)\\n    .join(enter => {\\n        let tr = enter.append(\\'tr\\')\\n        tr.append(\\'td\\')\\n        tr.append(\\'td\\').style(\\'font-size\\', \\'smaller\\')\\n        tr.append(\\'td\\').style(\\'font-size\\', \\'smaller\\').attr(\\'class\\', \\'std\\')\\n        return tr\\n        })\\n    .selectAll(\\'td\\')\\n    .text( (d, i) => d[column_order[i]] )\\n  if (data.length > 0) {\\n    wrapper.style(\\'display\\', \\'block\\')\\n  } else {\\n    wrapper.style(\\'display\\', \\'none\\')\\n  }\\n}\\n\\nfunction do_projection_stats(wrapper, data) {\\n  let column_order = [\\'name\\', \\'mean\\', \\'min\\', \\'max\\'];\\n  wrapper.select(\\'tbody\\').selectAll(\\'tr\\')\\n    .data(data, d => d)\\n    .join(enter => {\\n      let tr = enter.append(\\'tr\\')\\n      tr.append(\\'td\\')\\n      tr.append(\\'td\\').style(\\'font-size\\', \\'smaller\\')\\n      tr.append(\\'td\\').style(\\'font-size\\', \\'smaller\\')\\n      tr.append(\\'td\\').style(\\'font-size\\', \\'smaller\\')\\n      return tr;\\n    })\\n    .selectAll(\\'td\\')\\n    .text( (d, i) => d[column_order[i]] );\\n  if (data.length > 0) {\\n    wrapper.style(\\'display\\', \\'block\\')\\n  } else {\\n    wrapper.style(\\'display\\', \\'none\\')\\n  }\\n}\\n\\nlet focus_node_tooltip_select = d3.select(\\'#tooltip_content_focus_node\\');\\nlet tooltip_content_no_focus_node = d3.select(\\'#tooltip_content_no_focus_node\\')\\nlet projection_stats_select = focus_node_tooltip_select.select(\\'.projection_stats\\');\\nlet cluster_stats_select = focus_node_tooltip_select.select(\\'.cluster_stats\\');\\nlet above_wrapper = cluster_stats_select.select(\\'.above-wrapper\\');\\nlet below_wrapper = cluster_stats_select.select(\\'.below-wrapper\\');\\nlet list_of_members = focus_node_tooltip_select.select(\\'.membership-information .list-of-members\\');\\n\\nfunction set_focus_node(d){\\n  if (d == null) {\\n    focus_node = null;\\n    set_cursor(\\'move\\');\\n    tooltip_content_no_focus_node.style(\\'display\\', \\'block\\');\\n    focus_node_tooltip_select.style(\\'display\\', \\'none\\')\\n    exit_highlight();\\n  } else if (focus_node == null || d.name != focus_node.name) {\\n    exit_highlight(focus_node);\\n    focus_node = d;\\n    set_highlight(focus_node);\\n    set_cursor(\\'pointer\\');\\n\\n    tooltip_content_no_focus_node.style(\\'display\\', \\'none\\');\\n\\n    focus_node_tooltip_select.select(\\'button.center-on-node\\').node().dataset.nodeId = d.tooltip.node_id;\\n    focus_node_tooltip_select.select(\\'.node_id\\').text(d.tooltip.node_id)\\n    focus_node_tooltip_select.select(\\'.distribution_label\\').text(d.tooltip.dist_label)\\n\\n    // histogram\\n    set_focus_node_histogram(d)\\n\\n    // projection statistics\\n    let projection_stats = d.tooltip.projection_stats;\\n    do_projection_stats(projection_stats_select, projection_stats)\\n\\n    // cluster statistics\\n    let cluster_stats = d.tooltip.cluster_stats;\\n    if (cluster_stats) {\\n\\n      do_above_below_stats(above_wrapper, cluster_stats.above);\\n\\n      do_above_below_stats(below_wrapper, cluster_stats.below);\\n\\n      cluster_stats_select.select(\\'.cluster-size\\').text(cluster_stats.size)\\n\\n      cluster_stats_select.style(\\'display\\', \\'block\\')\\n    } else {\\n      cluster_stats_select.style(\\'display\\', \\'none\\')\\n    }\\n\\n    // membership information\\n    list_of_members.selectAll(\\'span\\')\\n      .data(d.tooltip.custom_tooltips, d => d)\\n      .join(\\'span\\')\\n        .html(d => d)\\n        .style(\\'display\\', \\'inline-block\\')\\n        .style(\\'padding\\', \\'0 3px\\')\\n\\n    focus_node_tooltip_select.style(\\'display\\', \\'block\\');\\n\\n    set_focus_node_histogram(d)\\n  }\\n  // else, it\\'s already the focus node, so do nothing...\\n}\\n\\nd3.select(\\'#tooltip .center-on-node\\').on(\\'click\\', function(e){\\n  // d3.select(\\'#node-\\' + focus_node.name + \\' .circle\\').dispatch(\\'center_viewport\\')\\n  d3.select(\\'#node-\\' + e.target.dataset.nodeId + \\' .circle\\').dispatch(\\'center_viewport\\')\\n})\\n\\nfunction set_focus_node_histogram(d){\\n  set_histogram(d3.select(\\'#tooltip_content .histogram\\'), d.tooltip.histogram[color_function_index])\\n}\\n\\nfunction set_highlight(node) {\\n  let node_id = node.name;\\n  d3.select(\\'#node-\\' + node_id + \\' .circle\\').classed(\\'highlight\\', true);\\n  d3.select(\\'#node-\\' + node_id).classed(\\'highlight\\', true);\\n}\\n\\nfunction exit_highlight(node) {\\n  let node_id = false;\\n  if (node) {\\n    node_id = node.name\\n  }\\n  if (!node_id) {\\n     d3.selectAll(\\'.node .circle\\').classed(\\'highlight\\', false);\\n     d3.selectAll(\\'.node\\').classed(\\'highlight\\', false);\\n  } else {\\n     d3.select(\\'#node-\\' + node_id + \\' .circle\\').classed(\\'highlight\\', false);\\n     d3.select(\\'#node-\\' + node_id).classed(\\'highlight\\', false);\\n  }\\n\\n  do_projection_stats(projection_stats_select, [])\\n  do_above_below_stats(above_wrapper, [])\\n  do_above_below_stats(below_wrapper, [])\\n}\\n\\nfunction set_cursor(state) {\\n  if (!dragging) {\\n    svg.style(\\'cursor\\', state);\\n  }\\n}\\n\\nfunction node_is_fixed(d){\\n  return d.hasOwnProperty(\\'fx\\') || d.hasOwnProperty(\\'fy\\')\\n}\\n\\nfunction node_click(e, d) {\\n  e.stopPropagation()\\n  // to prevent the svg click.focus listener from unsetting the focus node...\\n}\\n\\nfunction center_on_node(e, d) {\\n  svg.transition().duration(250).call(zoom.translateTo, d.x, d.y);\\n}\\n\\nfunction node_mouseover(e, d) {\\n  d.was_fixed = d.hasOwnProperty(\\'fx\\') || d.hasOwnProperty(\\'fy\\')\\n  if (!d.was_fixed){\\n    d.fx = d.x;\\n    d.fy = d.y;\\n  }\\n\\n  if (e.buttons == 0){\\n    set_cursor(\\'pointer\\');\\n    if (!focus_via_click) {\\n      set_focus_node(d);\\n    }\\n  }\\n}\\n\\nfunction node_mouseout(e, d) {\\n  if (!d.was_fixed){\\n      delete d.fx\\n      delete d.fy\\n  }\\n  if (e.buttons == 0){\\n    set_cursor(\\'move\\');\\n    if (!focus_via_click) {\\n        set_focus_node(null);\\n    }\\n  }\\n}\\n\\nfunction node_mousedown(e, d) {\\n  e.stopPropagation();\\n  if (focus_node.name != d.name) {\\n      //switch click focus\\n      set_focus_via_click(d);\\n  } else if (!focus_via_click) {\\n      //d already selected but not via click; set click true\\n      focus_via_click = true;\\n  }\\n}\\n\\n\\n\\nfunction isNumber(n) {\\n  return !isNaN(parseFloat(n)) && isFinite(n);\\n}\\n\\nfunction unfreeze_node(d){\\n  delete d.fy\\n  delete d.fx\\n  return d\\n}\\n\\nfunction freeze_node(d){\\n  d.fx = d.x;\\n  d.fy = d.y;\\n  return d\\n}\\n\\n// search functionality\\nd3.select(\\'#searchbar\\')\\n  .on(\\'submit\\', function(event){\\n      /*\\n      * Searchbar functionality\\n      *\\n      * Permits AND, OR, and EXACT functionality\\n      *\\n      */\\n      event.preventDefault();\\n      // always running this will clear search results on a submit with an empty query\\n      node.datum(d => { d.size_modifier = 1; return d });\\n      node.style(\\'filter\\', null)\\n\\n      node.datum(d => {\\n        let to_lower = tooltip => String(tooltip).toLowerCase();\\n        d.tooltip.custom_tooltips_lowercase = d.tooltip.custom_tooltips.map(to_lower)\\n        return d\\n      });\\n\\n      let search_query = d3.select(this).select(\\'input\\').property(\\'value\\').toLowerCase();\\n      if (search_query) {\\n          let search_mode = d3.select(this).select(\\'input[name=\"search_mode\"]:checked\\').property(\\'value\\');\\n\\n          let node_ratio_fn = (d, i) => {\\n            matches = d.tooltip.custom_tooltips_lowercase.map(map_fn)\\n            let how_many = matches.filter(x=>x).length;\\n\\n            // Future optional feature -- size relative to ratio _within-node_\\n            let out_of = d.tooltip.cluster_stats.size;\\n            let ratio = how_many / out_of;\\n\\n            // Node sizes will be overall number of items in the node\\n            // number of matching\\n            d.size_modifier = how_many;\\n          }\\n\\n          let map_fn;\\n          let node_each_fn;\\n          switch (search_mode) {\\n            case \\'and\\':\\n              search_query = search_query.split(\\' \\');\\n              map_fn = tooltip => {\\n                return search_query.every(query_word => { return tooltip.includes( query_word ) })\\n              }\\n              node.each(node_ratio_fn)\\n              break;\\n            case \\'or\\':\\n              search_query = search_query.split(\\' \\');\\n              map_fn = tooltip => {\\n                return search_query.some(query_word => { return tooltip.includes( query_word ) })\\n              }\\n              node.each(node_ratio_fn)\\n              break;\\n            case \\'exact\\':\\n              node.filter((d,i) => {\\n                  matches = d.tooltip.custom_tooltips_lowercase.map(tooltip => tooltip == search_query)\\n                  return matches.some(e => e);\\n              })\\n              .style(\"filter\", \"url(#drop-shadow-glow)\");\\n              break;\\n            default:\\n              console.error(`search mode ${search_mode} unknown`);\\n              return;\\n          }\\n\\n      }\\n      node.attr(\"d\", draw_circle_size )\\n\\n  })\\n\\n// Key press events\\nlet searchbar = d3.select(\\'#searchbar input\\');\\n\\nd3.select(window).on(\"keydown\", function (event) {\\n  if (event.defaultPrevented) {\\n    return; // Do nothing if the event was already processed\\n  }\\n\\n  if (searchbar.size() && searchbar.node().matches(\\':focus\\')){\\n      return; // let them use the search bar.\\n  }\\n\\n  if (!event.ctrlKey && !event.altKey && !event.metaKey) {\\n    switch (event.key) {\\n      case \"f\": // freeze all\\n        node.datum(freeze_node);\\n        break;\\n      case \"x\": // unfreeze all\\n        node.datum(unfreeze_node);\\n        simulation.alphaTarget(.3).restart()\\n        break\\n      case \"s\":\\n        // Glow\\n        node.style(\"filter\", \"url(#drop-shadow-glow)\");\\n        break;\\n      case \"c\":\\n        // Remove glow\\n        node.style(\"filter\", null);\\n        break;\\n      case \"p\":\\n        // Turn to print mode, white backgrounds\\n        d3.select(\"body\").attr(\\'id\\', null).attr(\\'id\\', \"print\")\\n        break;\\n      case \"d\":\\n        // \"Display\" mode (dark background)\\n        d3.select(\"body\").attr(\\'id\\', null).attr(\\'id\\', \"display\")\\n        break;\\n      case \"z\":\\n        // turn off gravity (??)\\n        simulation\\n          .force(\\'charge\\', d3.forceManyBody().strength(0))\\n          .alphaTarget(.3)\\n          .restart()\\n        break\\n      case \"m\":\\n        // spacious layout\\n        simulation\\n          .force(\\'charge\\', d3.forceManyBody().strength(-1200))\\n          .alphaTarget(.3)\\n          .restart()\\n        break\\n      case \"e\":\\n        // tight layout\\n        simulation\\n          .force(\\'charge\\', d3.forceManyBody().strength(-60))\\n          .alphaTarget(.3)\\n          .restart()\\n        break\\n      default:\\n        return; // Quit when this doesn\\'t handle the key event.\\n    }\\n  event.preventDefault();\\n  }\\n  // Cancel the default action to avoid it being handled twice\\n}, true);\\n\\n\\n\\n/*\\n* Save and load config\\n*\\n*/\\n\\n// save config\\ndocument.getElementById(\\'download-config\\').addEventListener(\\'click\\', function(e){\\n  let config = {}\\n  node.data().forEach(node => {\\n      let config_node = {}\\n\\n      if ( node.hasOwnProperty(\\'fx\\') && node.hasOwnProperty(\\'fy\\') ) {\\n        config_node[\\'fx\\'] = config_node[\\'x\\'] = node[\\'fx\\']\\n        config_node[\\'fy\\'] = config_node[\\'y\\'] = node[\\'fy\\']\\n      } else {\\n        config_node[\\'x\\'] = node[\\'x\\']\\n        config_node[\\'y\\'] = node[\\'y\\']\\n      }\\n      config[node[\\'name\\']] = config_node\\n    })\\n\\n  //JSON.stringify(config,undefined,2)\\n\\n  // https://stackoverflow.com/a/45594892\\n  var fileName = \\'kmapper-config.json\\';\\n\\n  // Create a blob of the data. Blob is native JS api\\n  var fileToSave = new Blob([JSON.stringify(config)], {\\n      type: \\'application/json\\',\\n      name: fileName\\n  });\\n\\n  // function from FileSaver.js\\n  saveAs(fileToSave, fileName);\\n})\\n\\n// load config\\nvar config_file_loader = document.getElementById(\\'config-file-loader\\');\\n\\nconfig_file_loader.addEventListener(\\'change\\', function(){\\n  document.getElementById(\\'load-config\\').disabled = ( config_file_loader.files.length === 0 )\\n})\\n\\ndocument.getElementById(\\'load-config\\').addEventListener(\\'click\\', function(){\\n  const config_file = config_file_loader.files[0];\\n  const fr = new FileReader();\\n  fr.onload = function(e) {\\n    var config = JSON.parse(e.target.result);\\n    load_config(config);\\n  }\\n  fr.readAsText(config_file)\\n})\\nfunction load_config(config){\\n  node = node.datum(function(d, i){\\n    let load_node_config = config[d[\\'name\\']]\\n    d = Object.assign(d, load_node_config);\\n    if ( d.hasOwnProperty(\\'fx\\') && !load_node_config.hasOwnProperty(\\'fx\\') ) {\\n      delete d[\\'fx\\']\\n    }\\n    if ( d.hasOwnProperty(\\'fy\\') && !load_node_config.hasOwnProperty(\\'fy\\') ) {\\n      delete d[\\'fy\\']\\n    }\\n    return d;\\n  })\\n  simulation.restart()\\n}\\n</script>\\n</body>\\n\\n</html>'"
            ],
            "application/vnd.google.colaboratory.intrinsic+json": {
              "type": "string"
            }
          },
          "metadata": {},
          "execution_count": 15
        }
      ]
    },
    {
      "cell_type": "markdown",
      "source": [
        "Podemos ver que separó muy bien la clase 0 de flores (setosa), teniendo 3 clusters conectados y solos, esto debido a que probablemente son las más diferenciables de las demás, de ahí, tiene un poco de problemas para separar la 1 y 2, esto es algo de esperarse debido a que según estudios esas son las más similares (versicolor y virginica), aún así, pareció tener cierto éxito, teniendo 6 nodos conectados de la 1 y 2, pero que aún así parecen distribuirse un lado principalmente 1 y el otro principalmente 2"
      ],
      "metadata": {
        "id": "cCszVRfu8l2V"
      }
    }
  ]
}